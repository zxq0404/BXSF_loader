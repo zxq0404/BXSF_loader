{
 "cells": [
  {
   "cell_type": "markdown",
   "metadata": {
    "collapsed": true
   },
   "source": [
    "## Dependencies"
   ]
  },
  {
   "cell_type": "code",
   "execution_count": 15,
   "metadata": {
    "collapsed": true
   },
   "outputs": [],
   "source": [
    "import numpy as np\n",
    "import os\n",
    "import glob\n",
    "import math\n",
    "from scipy.interpolate import RegularGridInterpolator\n",
    "import matplotlib.pyplot as plt\n",
    "%matplotlib inline\n",
    "from functools import reduce\n",
    "import time\n",
    "import contextlib  "
   ]
  },
  {
   "cell_type": "markdown",
   "metadata": {},
   "source": [
    "## Misc"
   ]
  },
  {
   "cell_type": "code",
   "execution_count": 2,
   "metadata": {
    "collapsed": true
   },
   "outputs": [],
   "source": [
    "\n",
    "\n",
    "@contextlib.contextmanager  \n",
    "def timer(msg):\n",
    "# A timer for speed test\n",
    "    start = time.time()\n",
    "    yield\n",
    "    end = time.time()\n",
    "    print(\"%s: %.02f ms\" % (msg, (end-start)*1000))"
   ]
  },
  {
   "cell_type": "code",
   "execution_count": 3,
   "metadata": {
    "collapsed": true
   },
   "outputs": [],
   "source": [
    "# A wrapper to play music after the job is done.\n",
    "def alarm(fn, sound = '/Users/Xiaoqing/Python/Downloaded/SoundResource/westworld.mp3'):\n",
    "\n",
    "    def playmusic(fn):\n",
    "        import pyglet\n",
    "        from functools import wraps\n",
    "    \n",
    "        @wraps(fn)\n",
    "        def inner(*args, **kwargs):\n",
    "            result = fn(*args, **kwargs)           \n",
    "            music_source = sound\n",
    "            player = pyglet.media.load(music_source, streaming=False)\n",
    "            player.play()         \n",
    "            return result\n",
    "    \n",
    "        return inner\n",
    "    \n",
    "    return playmusic(fn)\n",
    "\n",
    "import pyglet    \n",
    "def playmusic(sound = '/Users/Xiaoqing/Python/Downloaded/SoundResource/westworld.mp3'):\n",
    "    music_source = sound\n",
    "    player = pyglet.media.load(music_source, streaming=False)\n",
    "    player.play()"
   ]
  },
  {
   "cell_type": "markdown",
   "metadata": {},
   "source": [
    "## Constants"
   ]
  },
  {
   "cell_type": "code",
   "execution_count": 4,
   "metadata": {
    "collapsed": true
   },
   "outputs": [],
   "source": [
    "#Bohr radius commonly used in DFT for reciprocal lattice scale. Not all BXSF files use it, though.\n",
    "BOHR_R = 0.529177\n",
    "#Rydberg constant for energy scale - again, a common DFT thing, but not all BXSF files use it.\n",
    "RYDBERG = 13.6112\n",
    "#electron mass\n",
    "M_e = 5.68562958E-32 \n",
    "# Planck constant\n",
    "HBAR = 6.58211814E-16   \n",
    "\n",
    "#Default scale for Igor Pro.\n",
    "DEFAULT_SCALES = ((0,1),(0,1),(0,1))\n"
   ]
  },
  {
   "cell_type": "markdown",
   "metadata": {},
   "source": [
    "## Main Code - BXSF loader"
   ]
  },
  {
   "cell_type": "code",
   "execution_count": 5,
   "metadata": {
    "collapsed": true
   },
   "outputs": [],
   "source": [
    "class BXSF(object):\n",
    "# This starts with Xiaoyu Deng's code. Rewrote and added more functionality by Xiaoqing.\n",
    "    def __init__(self, file, scaling = True):\n",
    "        self.e_scaling = RYDBERG if scaling else 1\n",
    "        self.name = file\n",
    "        self.path = \"/\".join(file.rstrip().rsplit(\"/\")[:-1])\n",
    "        self.basename = file.rsplit(\"/\")[-1].rsplit(\".\")[0].replace(\"-\",\"_\")\n",
    "        try:\n",
    "            self.f = open(file, 'r')\n",
    "            self.content = self.f.readlines()\n",
    "            # Need to rewrite this for better memory management.\n",
    "            # For BXSF file the data iterated first on Z, then Y then X in the reciprocal space.\n",
    "            # For Igor pro the data goes as row (x), column (y), layer (z). This can be quite confusing as Z become x, etc..\n",
    "            # Specifically Igor save its data in the format of column/row/layer which is reverse of what we expect.\n",
    "            # We have to transpose the 3D matrix to satisfy Igor, so Z->x, X->y, Y->z.\n",
    "            self.ef = self._get_ef()\n",
    "            self.xstep, self.ystep, self.zstep = self._get_gridsize()      \n",
    "            self.matrix = self._get_rpl_vector()*2*np.pi/BOHR_R if scaling else self._get_rpl_vector()\n",
    "            self.inv_matrix = np.linalg.inv(self.matrix)\n",
    "            # 3 reciprocal vectors (2*pi/a, 2*pi/b, 2*pi/c).\n",
    "            # These vector forms the transformation matrix from reciprocal to Cartesian system: \n",
    "            # a = b*M, b = a*M**(-1) where a is the Cartesasian coordinates and b is the reciprocal coordinates.           \n",
    "            self.rpl_scales = list(zip([0,0,0],map(getR, self.matrix)))\n",
    "            \n",
    "            #self.band_start = self._findtag(\"BAND:\")\n",
    "            #self.band_num = self.content[self.band_start].rstrip().rsplit()[-1] if self.band_start!=-1 else 0\n",
    "            #self.igor_name = \"\".join([self.basename,\"_BAND\",self.band_num])\n",
    "            # get the first band and its interpolation - there might be multiple bands in a file.\n",
    "            self.bands = dict()\n",
    "            self.band_num = 0\n",
    "            self.line_pointer = self._findtag(\"BAND:\")\n",
    "            while self.content[self.line_pointer].find('END_BANDGRID_3D')==-1 and self.line_pointer!=len(self.content)-1:\n",
    "                self.get_rpl_band()\n",
    "                self.bands[self.band_num] = self.rpl_band\n",
    "            print(len(self.bands), \" bands loaded.\")\n",
    "\n",
    "            self._get_band_ranges()\n",
    "            self._rpl2cart_grids()\n",
    "            self._init_dispgrid()\n",
    "            \n",
    "        except  OSError as e:\n",
    "            print(file,\" not found\")\n",
    "            \n",
    "    def _load_param(self):\n",
    "    # Placeholder for parameter loading\n",
    "        pass\n",
    "                                    \n",
    "    def __del__(self):\n",
    "        self.f.close()\n",
    "\n",
    "    def _findtag(self,tag):\n",
    "        for i,line in enumerate(self.content):\n",
    "            if tag in line:\n",
    "                return i\n",
    "        return -1\n",
    "    \n",
    "    def _get_ef(self):\n",
    "        for line in self.content:\n",
    "            if \"Fermi Energy\" in line:\n",
    "                self.ef = float(line.rstrip().rsplit()[-1])\n",
    "                return self.ef\n",
    "        \n",
    "    def _get_gridsize(self):\n",
    "        pos = self._findtag(\"BEGIN_BLOCK_BANDGRID_3D\")\n",
    "        line = self.content[pos+4]\n",
    "        nx, ny, nz =[int(step) for step in line.rstrip().rsplit()]\n",
    "        return nx, ny, nz\n",
    "    \n",
    "    def _get_rpl_vector(self):\n",
    "        pos = self._findtag(\"BEGIN_BLOCK_BANDGRID_3D\")\n",
    "        self.xvector = tuple(map(float,self.content[pos+6].rstrip().rsplit()))\n",
    "        self.yvector = tuple(map(float,self.content[pos+7].rstrip().rsplit()))\n",
    "        self.zvector = tuple(map(float,self.content[pos+8].rstrip().rsplit()))\n",
    "        return np.asarray((self.xvector, self.yvector, self.zvector))\n",
    "     \n",
    "    \n",
    "    def get_rpl_band(self):\n",
    "    # Read the current band as a numpy 3D array in reciprocal lattice, starting from self.band_start\n",
    "        pos = 0\n",
    "        self.rpl_band = np.empty(self.xstep*self.ystep*self.zstep)\n",
    "        line = self.content[self.line_pointer]\n",
    "        self.band_num = int(line.rstrip().rsplit()[-1])\n",
    "\n",
    "        self.line_pointer+=1\n",
    "        line = self.content[self.line_pointer]\n",
    "        while \"BAND\" not in line and \"END\" not in line: \n",
    "            data = line.rstrip().rsplit()\n",
    "            for j,element in enumerate(data): \n",
    "                self.rpl_band[pos+j]=(float(element)-self.ef)*self.e_scaling\n",
    "            pos+=j+1\n",
    "            self.line_pointer+=1\n",
    "            line = self.content[self.line_pointer]\n",
    "            \n",
    "        self.rpl_band.resize((self.xstep,self.ystep,self.zstep))\n",
    "            \n",
    "    def _get_interp(self,band):\n",
    "    # Interpolate the band in reciprocal space for ARPES simulation\n",
    "        x=np.linspace(0,1,self.xstep)\n",
    "        y=np.linspace(0,1,self.ystep)\n",
    "        z=np.linspace(0,1,self.zstep)  \n",
    "        self.interp=RegularGridInterpolator((x,y,z),band) \n",
    "        \n",
    "    def _init_dispgrid(self, k_step = 301, k_scale = 1.5, be_min = -2, be_max = 1, be_step = 301):\n",
    "    # Initialize the grids (kx, ky, E) to host the ARPES spectra in Cartesian space with default values.\n",
    "        self.set_e_scale(be_min, be_max, be_step)\n",
    "        self.set_kx_scale(-k_scale, k_scale, k_step)\n",
    "        self.set_ky_scale(-k_scale, k_scale, k_step)\n",
    "        \n",
    "    def set_e_scale(self, be_min, be_max, be_step):\n",
    "    # Set the binding energe range for the ARPES simulation. Only the bands with-in this energy range are considered.\n",
    "    # Called by user only when you need to customize the setting. \n",
    "        self.be_min = be_min\n",
    "        self.be_max = be_max\n",
    "        self.e_step = be_step\n",
    "        self.e_axis = np.linspace(be_min, be_max, be_step)\n",
    "        self._get_relevant_bands()\n",
    "        \n",
    "    def set_kx_scale(self, kx_min, kx_max, kx_step):\n",
    "    # Set the momentum range for the ARPES simulation. \n",
    "    # Called by user only when you need to customize the setting. \n",
    "        self.kx_axis = np.linspace(kx_min, kx_max, kx_step)\n",
    "        self.kx_step= kx_step\n",
    "        self.kx_min = kx_min\n",
    "        self.kx_max = kx_max\n",
    "         \n",
    "    def set_ky_scale(self, ky_min, ky_max, ky_step):\n",
    "        self.ky_axis = np.linspace(ky_min, ky_max, ky_step)\n",
    "        self.ky_step = ky_step\n",
    "        self.ky_min = ky_min\n",
    "        self.ky_max = ky_max\n",
    "    \n",
    "    def get_disp(self, steps, path):\n",
    "    # Get the dispersion as a 1D numpy array with $steps$ elements along a given path. Say high symmetry line.\n",
    "        pass\n",
    "    \n",
    "    def _rpl2cart_grids(self):\n",
    "    # make a Cartesian coordinate grids that is large enough to contain the entire reciprocal lattice.\n",
    "        cart_max = np.sum(np.abs(self.matrix), axis=0)\n",
    "        self.cart_scales = list(zip(-cart_max, cart_max))\n",
    "        self.cart_nx, self.cart_ny, self.cart_nz = 2*self.xstep-1, 2*self.ystep-1, 2*self.zstep-1\n",
    "        cart_grids=np.mgrid[-cart_max[0]:cart_max[0]:complex(0,self.cart_nx),\n",
    "                           -cart_max[1]:cart_max[1]:complex(0,self.cart_ny),\n",
    "                           -cart_max[2]:cart_max[2]:complex(0,self.cart_nz)]\n",
    "        cart_grids = cart_grids.reshape(3,-1).T\n",
    "        k_rpl = np.dot(cart_grids, self.inv_matrix)\n",
    "        self.k_rpl = abs(k_rpl)%1\n",
    "        \n",
    "    def get_cart_band(self, band_num):\n",
    "    # Get the band structure under this Cartesian coordinates instead of the reciprical coordinates.\n",
    "    # Normally that's what we want - otherwise it might be counter\n",
    "    # Deal with the whole array at the same time, i.e. matrix operation. Much faster.\n",
    "        self._get_interp(band_num)\n",
    "        self.cart_band =  self.interp(self.k_rpl)\n",
    "        self.cart_band.resize((self.cart_nx,self.cart_ny,self.cart_nz))\n",
    "       \n",
    "    def kz_sim(self, hkl=[0,0,1], broadening = 0.01, kz = 0):\n",
    "        # Simulate ARPES spectra at a certain hkl face for a given k_z - not finished yet.\n",
    "        self.miller = miller_matrix(self.matrix, hkl)\n",
    "        self.hkl = hkl\n",
    "        xv, yv, ev = np.meshgrid(self.kx_axis,self.ky_axis,self.e_axis)\n",
    "        zv = ev*0+kz\n",
    "        k_cart = np.stack([xv,yv,zv]).reshape(3,-1).T\n",
    "        k_cart = np.dot(k_cart, self.miller)\n",
    "        self.ek3d = self.ek_at_cart(k_cart)\n",
    "        self.ek3d.resize(self.k_step, self.k_step, self.e_step)\n",
    "        self.ARPES3d = broadening/(broadening**2+(ev-self.ek3d)**2)\n",
    "        \n",
    "    def ARPES_sim(self, hv=75, inner =10, wk = 4.27, hkl=[0,0,1], broadening = 0.01):\n",
    "\n",
    "        # Simulate ARPES spectra at a certain hkl face.\n",
    "        self.e_off = hv+inner-wk\n",
    "        self.miller = miller_matrix(self.matrix, hkl)\n",
    "        self.hkl = hkl\n",
    "        xv, yv, ev = np.meshgrid(self.kx_axis,self.ky_axis,self.e_axis)\n",
    "        zv = self._kxky2kz(xv,yv,ev)\n",
    "        k_cart = np.stack([xv,yv,zv]).reshape(3,-1).T\n",
    "        k_cart = np.dot(k_cart, self.miller)\n",
    "        \n",
    "        self.ARPES3d  =np.zeros((self.kx_step, self.ky_step, self.e_step))\n",
    "        print(len(self.relevant),\" bands found in range. Processing....\")\n",
    "        for band_num in self.relevant:\n",
    "            self._get_interp(self.bands[band_num])\n",
    "            self.ek3d = self.ek_at_cart(k_cart)\n",
    "            self.ek3d.resize(self.kx_step, self.ky_step, self.e_step)\n",
    "            band3d = broadening/(broadening**2+(ev-self.ek3d)**2)\n",
    "            self.ARPES3d =np.add(self.ARPES3d,band3d)\n",
    "        \n",
    "    def _get_band_ranges(self):\n",
    "        self.band_tops = {}\n",
    "        self.band_bottoms = {}\n",
    "        for band_num in self.bands:\n",
    "            self.band_tops[band_num] = self.bands[band_num].max()\n",
    "            self.band_bottoms[band_num] = self.bands[band_num].min()\n",
    "        \n",
    "    def _get_relevant_bands(self):\n",
    "        # determine which bands are relevant, i.e. between self.be_min and self.be_max\n",
    "        self.relevant = []\n",
    "        for band_num in self.bands:\n",
    "            if self.band_tops[band_num]>self.be_min and self.band_bottoms[band_num]<self.be_max:\n",
    "                self.relevant.append(band_num)\n",
    "        \n",
    "    def ARPES2itx(self, str_type = \"<U8\", igor_name = None, out_name = None):\n",
    "    #write the simulated ARPES spectra to igor file.\n",
    "        band_out = self.ARPES3d\n",
    "        hkl_str = \"\".join([str(i) for i in self.hkl]).replace(\"-\",\"n\")\n",
    "        if not igor_name:\n",
    "            igor_name =\"\".join([self.basename,\"_\",hkl_str])\n",
    "        if not out_name:\n",
    "            out_name = \"\".join([self.path,\"/\",self.basename,\"_\",hkl_str,\".itx\"])  \n",
    "        scales = ((self.kx_min, self.kx_max),(self.ky_min, self.ky_max),(self.be_min,self.be_max))\n",
    "        write2itx(band_out, igor_name, out_name, scales = scales,str_type = str_type)            \n",
    "    \n",
    "    def _kxky2kz(self, kx, ky, be):\n",
    "        E = self.e_off+be\n",
    "        return np.sqrt(2*M_e*E/(HBAR**2)-kx**2-ky**2)\n",
    "    \n",
    "    def ek_at_cart(self,cart):\n",
    "        # Get the energy value of a band under the Cartesian coordinate\"cart\", which is a numpy array of size 3.\n",
    "        # Can handle arrays of Cartesian coordinates too for parallel computation.\n",
    "        # need to have self.interp for a particular band\n",
    "        k_rpl = np.dot(cart, self.inv_matrix)\n",
    "        k_rpl = abs(k_rpl%1)\n",
    "        return self.interp(k_rpl)\n",
    "                    \n",
    "    def band2itx(self, band_num, unit = \"cart\"):\n",
    "    # write the 3D E(kx,ky,kz) data to Igor Pro .itx file for a single band.\n",
    "    # Intuitively we want the band structure under Cartesian coordinates.\n",
    "        igor_name = self.basename+\"_\"+str(band_num)\n",
    "        out_name = \"\".join([self.path,\"/\",igor_name,\".itx\"])\n",
    "        if band_num not in self.bands:\n",
    "            print(\"Target band cannot be found.\")\n",
    "            return False\n",
    "        if unit==\"rpl\":\n",
    "            scales = self.rpl_scales\n",
    "            band_out = self.bands[band_num]\n",
    "        elif unit==\"cart\":\n",
    "            self.get_cart_band(band_num)\n",
    "            scales = self.cart_scales\n",
    "            band_out = self.cart_band\n",
    "            \n",
    "        write2itx(band_out, igor_name, out_name, scales=scales) \n",
    "        return True\n",
    "    \n",
    "    def allbands_to_itx(unit = \"cart\"):\n",
    "        for band_num in self.bands:\n",
    "            band2itx(band_num)\n",
    "               \n",
    "        \n",
    "def make_igorhead(steps, igor_name):\n",
    "    igorhead = \"\".join([\"IGOR\\nWAVES/D/N=(\",\",\".join([str(step) for step in steps]),\") \",igor_name,\"\\n\"+\"BEGIN\\n\"])\n",
    "    return igorhead\n",
    "\n",
    "def make_igortail(scales, igor_name):\n",
    "    igortail = []\n",
    "    igortail.append(\"\\nEND\\nX \")\n",
    "    axes = [\"x\",\"y\",\"z\",\"d\"]\n",
    "    for i, scale in enumerate(scales):\n",
    "        igortail.append(\"Setscale/I {0} {1},{2},\\\"\\\", {3};\".format(axes[i],scale[0], scale[1], igor_name))     \n",
    "    return \"\".join(igortail)\n",
    "\n",
    "def write2itx(data3d, igor_name, out_name, scales = DEFAULT_SCALES, str_type = \"<U8\", note = \"\\n\"):\n",
    "    # Igor_name: the wave name inside Igor\n",
    "    # out_name: actual file name\n",
    "    nx, ny, nz = data3d.shape \n",
    "    #Here the key operation: swap the axes of the matrix x,y and y,z\n",
    "    band_out = np.transpose(data3d,(2,0,1)).astype(str_type)\n",
    "    band_out = band_out.flatten()\n",
    "    band_out.resize((nz*nx, ny))\n",
    "    with open(out_name,\"w\") as output:\n",
    "        igorhead = make_igorhead((nx,ny,nz),igor_name)\n",
    "        igortail = make_igortail(scales,igor_name)\n",
    "        output.write(igorhead)\n",
    "        output.write(\"\\n\".join([\"\\t\".join(row) for row in band_out]))\n",
    "        output.write(igortail)\n",
    "        wavenote=\"\".join([\"X Note \",igor_name,\",\",note])\n",
    "        output.write(wavenote)\n",
    "        print(out_name, \" generated.\")\n",
    "\n",
    "def getR(vector):\n",
    "    return np.sqrt(sum(i**2 for i in vector))\n",
    "\n",
    "def miller_matrix(b_matrix, hkl):\n",
    "    # Note that it is easier to imagine cleavage plane in real space, but here we are....\n",
    "    # Miller index - defines a surface that perpendicular to g_hkl = h*b1+k*b2+l*b3 in reciprocal lattice.\n",
    "    # so this can be understood as a Cartesian system being rotated so that unit vector c rotated to g_hkl.\n",
    "    # which defines a rotation matrix. We use two steps: first rotate counter-clockwise around axis Z, then axis Y\n",
    "    g_hkl = np.sum(np.asarray([[i] for i in hkl])*b_matrix,axis = 0)\n",
    "    x,y,z = g_hkl\n",
    "    if x or y:\n",
    "        cos_t = x/np.sqrt(x**2+y**2) \n",
    "        sin_t = y/np.sqrt(x**2+y**2)\n",
    "    else:\n",
    "        cos_t = 1\n",
    "        sin_t = 0\n",
    "    cos_p = z/np.sqrt(x**2+y**2+z**2)\n",
    "    sin_p = np.sqrt(x**2+y**2)/np.sqrt(x**2+y**2+z**2)\n",
    "    Rz = np.array([[cos_t,-sin_t, 0],[sin_t, cos_t, 0],[0, 0, 1]])\n",
    "    Ry = np.array([[cos_p,0, sin_p],[0,1,0],[-sin_p,0,cos_p]])\n",
    "    # rotation matrix that converts the hkl coordinates back to the original.\n",
    "    return np.linalg.inv(np.dot(Ry,Rz))\n"
   ]
  },
  {
   "cell_type": "markdown",
   "metadata": {},
   "source": [
    "## Example - MnBiTe147"
   ]
  },
  {
   "cell_type": "code",
   "execution_count": 16,
   "metadata": {
    "collapsed": true
   },
   "outputs": [],
   "source": [
    "# the cleavage surface defined by Miller index and the photon energy.\n",
    "my_hkl = [0,0,1]\n",
    "my_hv = 90"
   ]
  },
  {
   "cell_type": "code",
   "execution_count": 9,
   "metadata": {},
   "outputs": [
    {
     "name": "stdout",
     "output_type": "stream",
     "text": [
      "152  bands loaded.\n",
      "CPU times: user 37.5 s, sys: 6.27 s, total: 43.7 s\n",
      "Wall time: 52.2 s\n"
     ]
    }
   ],
   "source": [
    "%%time\n",
    "\n",
    "# A typical example where a single file holds many bands.\n",
    "# be careful with E_F - the program will try look for it in the file but you might need to get the actual number from DFT people.\n",
    "\n",
    "\n",
    "MBT147 = BXSF(\"/Users/Xiaoqing/ARPES_Win/OtherSamples/MnBiTe/MBT147.bxsf\", scaling = False)\n",
    "playmusic()"
   ]
  },
  {
   "cell_type": "code",
   "execution_count": 10,
   "metadata": {
    "collapsed": true
   },
   "outputs": [],
   "source": [
    "# change energy scales and steps to narrow down the number of relevant bands.\n",
    "# This should match your experimental energy range with some offset.\n",
    "# The default value is (start, end, steps) = (-2,1,301)\n",
    "MBT147.set_e_scale(-1,0.2,121)"
   ]
  },
  {
   "cell_type": "code",
   "execution_count": 12,
   "metadata": {},
   "outputs": [
    {
     "name": "stdout",
     "output_type": "stream",
     "text": [
      "34  bands found in range. Processing....\n",
      "CPU times: user 33 s, sys: 8.21 s, total: 41.2 s\n",
      "Wall time: 38.6 s\n"
     ]
    }
   ],
   "source": [
    "%%time\n",
    "# Very time consuming. Takes a long time to do this - 42 secs for one band on the default 301*301*301 grid\n",
    "# Here we use use coarser grids and narrower range than default values to to speed things up.\n",
    "MBT147.set_kx_scale(-0.5,0.5,101)\n",
    "MBT147.set_ky_scale(-0.5,0.5,101)\n",
    "MBT147.ARPES_sim(hv = my_hv, hkl=my_hkl, inner = 15, broadening = 0.02)\n",
    "# play music after the job is done. Or use the wrap decorator.\n",
    "playmusic()"
   ]
  },
  {
   "cell_type": "code",
   "execution_count": 13,
   "metadata": {},
   "outputs": [
    {
     "name": "stdout",
     "output_type": "stream",
     "text": [
      "/Users/Xiaoqing/ARPES_Win/OtherSamples/MnBiTe/MBT147_001.itx  generated.\n"
     ]
    }
   ],
   "source": [
    "# \"Translate\" the 3D numpy array to igor's itx file, so you can use image tool.\n",
    "MBT147.ARPES2itx()"
   ]
  },
  {
   "cell_type": "code",
   "execution_count": 18,
   "metadata": {},
   "outputs": [
    {
     "data": {
      "text/plain": [
       "<matplotlib.image.AxesImage at 0xb8403b6a0>"
      ]
     },
     "execution_count": 18,
     "metadata": {},
     "output_type": "execute_result"
    },
    {
     "data": {
      "image/png": "[encoded data removed]",
      "text/plain": [
       "<Figure size 432x288 with 1 Axes>"
      ]
     },
     "metadata": {},
     "output_type": "display_data"
    }
   ],
   "source": [
    "plt.imshow(MBT147.ARPES3d[:,:,9])"
   ]
  },
  {
   "cell_type": "markdown",
   "metadata": {},
   "source": [
    "## CuMnAs"
   ]
  },
  {
   "cell_type": "code",
   "execution_count": 94,
   "metadata": {
    "collapsed": true
   },
   "outputs": [],
   "source": [
    "hkl = [1,0,0]\n",
    "hv = 86\n",
    "scales = ((-1.5,1.5),(-1.5,1.5),(-3,1))\n",
    "\n",
    "hkl_str = \"\".join([str(i) for i in hkl]).replace(\"-\",\"n\")\n",
    "wavenote ={}\n",
    "wavenote[\"hv\"] = hv\n",
    "wavenote[\"hkl\"] = hkl_str"
   ]
  },
  {
   "cell_type": "code",
   "execution_count": 95,
   "metadata": {
    "collapsed": true
   },
   "outputs": [],
   "source": [
    "CMA_bands = []\n",
    "for _ in range(6):\n",
    "    CMA.get_rpl_band()\n",
    "    CMA.get_interp()\n",
    "    CMA.ARPES_sim(hkl=hkl, hv = hv)\n",
    "    CMA_bands.append(CMA.ARPES3d)"
   ]
  },
  {
   "cell_type": "code",
   "execution_count": 96,
   "metadata": {},
   "outputs": [
    {
     "name": "stdout",
     "output_type": "stream",
     "text": [
      "/Users/Xiaoqing/ARPES_Win/OtherSamples/CuMnAs/CMA_ARPES100.itx  generated.\n"
     ]
    }
   ],
   "source": [
    "CMA_ARPES86 = reduce(lambda x,y:np.add(x,y), CMA_bands)\n",
    "igor_name = \"CMA_ARPES\"+hkl_str\n",
    "outname=\"/Users/Xiaoqing/ARPES_Win/OtherSamples/CuMnAs/\"+igor_name+\".itx\"\n",
    "note = str(wavenote)\n",
    "write2itx(CMA_ARPES86, igor_name, outname, note=note, scales =scales, str_type = \"<U8\")"
   ]
  },
  {
   "cell_type": "markdown",
   "metadata": {},
   "source": [
    "## NbAs2"
   ]
  },
  {
   "cell_type": "code",
   "execution_count": 19,
   "metadata": {},
   "outputs": [
    {
     "name": "stdout",
     "output_type": "stream",
     "text": [
      "1  bands loaded.\n",
      "1  bands loaded.\n",
      "1  bands loaded.\n",
      "1  bands loaded.\n",
      "1  bands loaded.\n"
     ]
    }
   ],
   "source": [
    "# In some cases, DFT people will send multiple file, each corresponds to a single band.\n",
    "\n",
    "NbAs2_band87 = BXSF(\"/Users/Xiaoqing/ARPES_Win/OtherSamples/NbAs2/NbAs2-band-scan/NbAs2-pri-soc.bxsf.band-87\")\n",
    "NbAs2_band85 = BXSF(\"/Users/Xiaoqing/ARPES_Win/OtherSamples/NbAs2/NbAs2-band-scan/NbAs2-pri-soc.bxsf.band-85\")\n",
    "NbAs2_band83 = BXSF(\"/Users/Xiaoqing/ARPES_Win/OtherSamples/NbAs2/NbAs2-band-scan/NbAs2-pri-soc.bxsf.band-83\")\n",
    "NbAs2_band81 = BXSF(\"/Users/Xiaoqing/ARPES_Win/OtherSamples/NbAs2/NbAs2-band-scan/NbAs2-pri-soc.bxsf.band-81\")\n",
    "NbAs2_band79 = BXSF(\"/Users/Xiaoqing/ARPES_Win/OtherSamples/NbAs2/NbAs2-band-scan/NbAs2-pri-soc.bxsf.band-79\")"
   ]
  },
  {
   "cell_type": "code",
   "execution_count": 21,
   "metadata": {
    "collapsed": true
   },
   "outputs": [],
   "source": [
    "hkl = [1,0,-1]\n",
    "hv = 90\n",
    "scales = ((-1.5,1.5),(-1.5,1.5),(-2,1))\n",
    "hkl_str = \"\".join([str(i) for i in hkl]).replace(\"-\",\"n\")\n",
    "wavenote ={}\n",
    "wavenote[\"hv\"] = hv\n",
    "wavenote[\"hkl\"] = hkl_str\n",
    "bands = (NbAs2_band87,NbAs2_band85,NbAs2_band83,NbAs2_band81,NbAs2_band79)"
   ]
  },
  {
   "cell_type": "code",
   "execution_count": 22,
   "metadata": {},
   "outputs": [
    {
     "name": "stdout",
     "output_type": "stream",
     "text": [
      "1  bands found in range. Processing....\n",
      "1  bands found in range. Processing....\n",
      "1  bands found in range. Processing....\n",
      "1  bands found in range. Processing....\n",
      "1  bands found in range. Processing....\n",
      "/Users/Xiaoqing/ARPES_Win/OtherSamples/NbAs2/NbAs2-band-scan/NbAs2_ARPES10n1.itx  generated.\n"
     ]
    }
   ],
   "source": [
    "for band in bands:\n",
    "    band.ARPES_sim(hkl=hkl, hv = hv)\n",
    "NbAs2_ARPES = NbAs2_band87.ARPES3d+NbAs2_band85.ARPES3d+NbAs2_band83.ARPES3d+NbAs2_band81.ARPES3d+NbAs2_band79.ARPES3d\n",
    "igor_name = \"NbAs2_ARPES\"+hkl_str\n",
    "outname=\"/Users/Xiaoqing/ARPES_Win/OtherSamples/NbAs2/NbAs2-band-scan/\"+igor_name+\".itx\"\n",
    "write2itx(NbAs2_ARPES, igor_name, outname, scales =scales, str_type = \"<U8\")"
   ]
  },
  {
   "cell_type": "markdown",
   "metadata": {},
   "source": [
    "## NbGe2"
   ]
  },
  {
   "cell_type": "markdown",
   "metadata": {},
   "source": [
    "## Other loaders"
   ]
  },
  {
   "cell_type": "code",
   "execution_count": 47,
   "metadata": {
    "collapsed": true
   },
   "outputs": [],
   "source": [
    "class surface_loader():\n",
    "# A temporary code to load Qihang's 2D surface band plot\n",
    "    import math\n",
    "    def __init__(self, file):\n",
    "        self.out_name = file+\".itx\"\n",
    "        with open(file, \"r\") as f:\n",
    "            self.xv, self.yv, self.intensity, self.weight = self._parser(f.readlines())\n",
    "        self.scales = self._get_scales()\n",
    "        vector_exp = np.vectorize(math.exp)\n",
    "        self.projection = vector_exp(self.weight+10)\n",
    "        self.intensity.resize((self.xstep, self.ystep))\n",
    "        self.projection.resize((self.xstep, self.ystep))\n",
    "        \n",
    "    def _parser(self, content):  \n",
    "        xv, yv, intensity, weight = [],[],[],[]\n",
    "        count = 0\n",
    "        \n",
    "        for idx, line in enumerate(content):\n",
    "            try:\n",
    "                x, y, i, w = line.strip().split() \n",
    "                xv.append(float(x))\n",
    "                yv.append(float(y))\n",
    "                intensity.append(float(i))\n",
    "                weight.append(float(w))\n",
    "            except:\n",
    "                if line.strip()!=\"\":\n",
    "                    print(\"Error occurs at \", line)\n",
    "        xv = np.array(xv)\n",
    "        yv = np.array(yv)\n",
    "        intensity = np.array(intensity)\n",
    "        weight = np.array(intensity)\n",
    "        return xv, yv, intensity, weight\n",
    "                \n",
    "    def _get_steps(self):\n",
    "        prev = self.xv[0]\n",
    "        for idx, x in enumerate(self.xv):\n",
    "            if x!=prev:\n",
    "                ystep = idx\n",
    "                break\n",
    "            prev = x\n",
    "        \n",
    "        xstep = len(self.xv)//ystep\n",
    "        return xstep, ystep\n",
    "    \n",
    "    def _get_scales(self):\n",
    "        self.xstep, self.ystep = self._get_steps()\n",
    "        self.xwave = self.xv[::self.ystep]\n",
    "        self.ywave = self.yv[:self.ystep]\n",
    "        return ((self.xwave[0],  self.xwave[-1]),(self.ywave[0], self.ywave[-1]))\n",
    "\n",
    "    def data2itx(self, note = \"\", projection = False):\n",
    "        if projection:\n",
    "            out_data = self.projection.astype(\"<U8\")\n",
    "            igor_name = \"ss_projection\"\n",
    "        else:\n",
    "            out_data = self.intensity.astype(\"<U8\")\n",
    "            igor_name = \"ss_intensity\"\n",
    "            \n",
    "        with open(self.out_name, \"w\") as output:\n",
    "            igorhead = make_igorhead((self.xstep,self.ystep),igor_name)\n",
    "            igortail = make_igortail(self.scales,igor_name)\n",
    "            output.write(igorhead)\n",
    "            output.write(\"\\n\".join([\"\\t\".join(row) for row in out_data]))\n",
    "            output.write(igortail)\n",
    "            wavenote=\"\".join([\"X Note \",igor_name,\",\",note])\n",
    "            output.write(wavenote)\n",
    "            print(self.out_name, \" generated.\")\n"
   ]
  },
  {
   "cell_type": "code",
   "execution_count": null,
   "metadata": {
    "collapsed": true
   },
   "outputs": [],
   "source": [
    "file = \"/Users/Xiaoqing/ARPES_Win/OtherSamples/MnBiTe/Surface/dos.dat_r\"\n",
    "surface = surface_loader(file)\n",
    "surface.data2itx(projection=True)"
   ]
  },
  {
   "cell_type": "code",
   "execution_count": null,
   "metadata": {
    "collapsed": true
   },
   "outputs": [],
   "source": [
    "# specific for PbPd3 and SnPd3's DFT data as it has a different format.\n",
    "def DFT_loaderPbPd3(file):\n",
    "    with open(file, \"r\") as f:\n",
    "        content = f.readlines()\n",
    "        for i,line in enumerate(content):\n",
    "            if line.isspace():\n",
    "                break\n",
    "        step = i-1\n",
    "        scale = float(content[step].rstrip().rsplit()[2])\n",
    "   #     print(step, scale)\n",
    "        \n",
    "        band = np.empty(step**3,dtype = \"<U32\")\n",
    "        \n",
    "        i=0\n",
    "        for line in content[1:]:\n",
    "            if not line.isspace():\n",
    "                try:\n",
    "                    value = line.rstrip().rsplit()[3]\n",
    "                    band[i]=value\n",
    "                    i+=1\n",
    "                except:\n",
    "                    print(i)\n",
    "        band.resize((step**2,step))\n",
    "        \n",
    "        outname =file.replace(\".dat\", \".itx\")\n",
    "        basename = file.rsplit(\"/\")[-1].replace(\".dat\",\"\").replace(\"-\",\"_\")\n",
    "        igorhead = \"IGOR\\nWAVES/D/N=(\"+\",\".join([str(step),str(step),str(step)])+\") \"+basename+\"\\n\"+\"BEGIN\\n\"\n",
    "        igortail = \"\\nEND\\nX \"\n",
    "        igortail+= \"Setscale/I x 0,%f,\\\"\\\", %s;\" % (scale, basename)  \n",
    "        igortail+= \"Setscale/I y 0,%f,\\\"\\\", %s;\" % (scale, basename)  \n",
    "        igortail+= \"Setscale/I z 0,%f,\\\"\\\", %s;\" % (scale, basename)\n",
    "        igortail+= \"Setscale/I d 0,%f,\\\"\\\", %s;\" % (0, basename)  \n",
    "        \n",
    "        with open(outname,\"w\") as output:\n",
    "                output.write(igorhead)\n",
    "                output.write(\"\\n\".join([\"\\t\".join(row) for row in band]))  \n",
    "                output.write(igortail)\n"
   ]
  }
 ],
 "metadata": {
  "kernelspec": {
   "display_name": "Python 3",
   "language": "python",
   "name": "python3"
  },
  "language_info": {
   "codemirror_mode": {
    "name": "ipython",
    "version": 3
   },
   "file_extension": ".py",
   "mimetype": "text/x-python",
   "name": "python",
   "nbconvert_exporter": "python",
   "pygments_lexer": "ipython3",
   "version": "3.6.8"
  }
 },
 "nbformat": 4,
 "nbformat_minor": 2
}
